{
 "cells": [
  {
   "cell_type": "markdown",
   "metadata": {},
   "source": [
    "# 1. Etude du problème d'optimisation\n",
    "\n",
    "1. La facture d'énergie s'écrit comme l'intégrale de la puissance électrique consommée multipliée par le prix de l'énergie sur une période de temps donnée.\n",
    " En discrétisant le temps, on peut écrire la facture d'énergie comme la somme des puissances électriques consommées multipliée par le prix de l'énergie sur chaque intervalle de temps.\n",
    " Ainsi : \n",
    " $$\\text{Facture} = \\Delta t \\sum_{i=0}^{N-1} c_i P_i$$"
   ]
  },
  {
   "cell_type": "markdown",
   "metadata": {},
   "source": [
    "3. On veut minimiser la facture . Donc le problème d'optimisation est $$\\min_{P_i} = \\Delta t \\sum_{i=0}^{N-1} c_i P_i$$ \n",
    "\n",
    "Les variables de décision sont donc les $P_i$, au nombre de $n=N$. \n",
    "\n",
    "On a également les contraintes inégalités suivantes : \n",
    "$$(c_{i1})_i = T_m-T_i$$\n",
    "$$(c_{i2})_i = T_i-T_M$$\n",
    "$$(c_{i3})_i = -P_i$$\n",
    "$$(c_{i4})_i = P_i-P_M$$\n",
    "\n",
    "La fonction $f$ est définie par :\n",
    "$$f(P) = \\Delta t \\sum_{i=0}^{N-1} c_i P_i$$\n"
   ]
  },
  {
   "cell_type": "markdown",
   "metadata": {},
   "source": [
    "4. Les $c_i$ sont constants. Donc la fonction $f$ est linéaire en $P$. Le problème est donc un problème d'optimisation linéaire."
   ]
  }
 ],
 "metadata": {
  "language_info": {
   "name": "python"
  }
 },
 "nbformat": 4,
 "nbformat_minor": 2
}
