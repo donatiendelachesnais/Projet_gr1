{
 "cells": [
  {
   "cell_type": "markdown",
   "metadata": {},
   "source": [
    "# Mini-projet d'optimisation : Effacement de consommation\n",
    "\n",
    "## 1. Etude du problème d'optimisation\n",
    "\n",
    "1. La facture d'énergie s'écrit comme l'intégrale de la puissance électrique consommée multipliée par le prix de l'énergie sur une période de temps donnée.\n",
    " En discrétisant le temps, on peut écrire la facture d'énergie comme la somme des puissances électriques consommées multipliée par le prix de l'énergie sur chaque intervalle de temps.\n",
    " Ainsi : \n",
    " $$\\text{Facture} = \\Delta t \\sum_{i=0}^{N-1} c_i P_i$$"
   ]
  },
  {
   "cell_type": "markdown",
   "metadata": {},
   "source": [
    "2. Le bilan énergétique de la maison s'écrit :\n",
    "- $P$ la puissance thermique produite par les convecteurs.\n",
    "- $C \\frac{dT}{dt}$ la puissance thermique absorbée par les murs et l'air dans la maison (on considère un système dynamique, la maison étant de capacité calorifique $C$)\n",
    "- $H(T-T^e)$ la puissance thermique dissippée à l'exérieur par les murs et les fenêtres, avec le coefficient d'échange conducto-convectif $H$.\n",
    "- $KT$ un facteur de conduction vers le sol (on considère alors qu'il est à température nulle, ce qui est une hypothèse forte).\n",
    "\n",
    "Ainsi, le bilan énergétique s'écrit :\n",
    "$$P = C \\frac{dT}{dt} + H(T-T^e) + KT$$\n",
    "\n",
    "La solution de ce problème s'écrit :\n",
    "$$T(t) = \\frac{H}{H+K}T^e + \\frac{P}{H+K} + (T_0 - \\frac{H}{H+K}T^e - \\frac{P}{H+K})e^{-\\frac{H+K}{C}t}$$\n",
    "\n",
    "Ce qui se discrétise en :\n",
    "$$T_{i+1} = \\frac{H}{H+K}T^e_i + \\frac{P_i}{H+K} + (T_i - \\frac{H}{H+K}T^e_i - \\frac{P_i}{H+K})e^{-\\frac{H+K}{C}\\Delta t}$$\n",
    "\n",
    "\n",
    "\n",
    "On identifie alors $h$, $k$ et $b$, pour obtenir :\n",
    "$$T_{i+1} = e^{-(k+h)\\Delta t} T_i + \\frac{1-e^{-(k+h)\\Delta t}}{k+h} (bP_i + hT_i^e)$$\n",
    "avec : \n",
    "$$h = \\frac{H}{C} ; k = \\frac{K}{C} ; b = \\frac{1}{C}$$"
   ]
  },
  {
   "cell_type": "markdown",
   "metadata": {},
   "source": [
    "3. On veut minimiser la facture . Donc le problème d'optimisation est $$\\min_{P_i} \\Delta t \\sum_{i=0}^{N-1} c_i P_i$$\n",
    "\n",
    "Les variables de décision sont donc les $P_i$, au nombre de $n=N$. \n",
    "\n",
    "On a également les contraintes inégalités suivantes : \n",
    "$$(c_{I1})_i = T_m-T_i$$\n",
    "$$(c_{I2})_i = T_i-T_M$$\n",
    "$$(c_{I3})_i = -P_i$$\n",
    "$$(c_{I4})_i = P_i-P_M$$\n",
    "\n",
    "La fonction $f$ est définie par :\n",
    "$$f(P) = \\Delta t \\sum_{i=0}^{N-1} c_i P_i$$"
   ]
  },
  {
   "cell_type": "markdown",
   "metadata": {},
   "source": [
    "4. Les $c_i$ sont constants. Donc la fonction $f$ est linéaire en $P$. Le problème est donc un problème d'optimisation linéaire."
   ]
  },
  {
   "cell_type": "markdown",
   "metadata": {},
   "source": [
    "## 2. Etude et résolution numérique du problème individuel\n",
    "\n",
    "5. La fonction $f$ est différentiable, donc la résolution de ce problème aux contraintes peut se faire par un algorithme de recherche de point selle, comme l'algorithme d'Uzawa ou d'Arrow-Hurwitz. Etant donné que le problème est linéaire, on choisira une méthode à contraites actives de la bibliothèque scipy. L'algorithme du simplexe à convergence garantie pourrait être mise en oeuvre pour le résoudre à la main."
   ]
  },
  {
   "cell_type": "markdown",
   "metadata": {},
   "source": [
    "## 3. Régulation collective\n",
    "\n",
    "8. La fonction f à minimiser est désormais : \n",
    "\n",
    "$$ f(P) = \\Delta t \\sum_{i=0}^{N-1} c_i \\Biggl( \\sum_{j=0}^{n_l-1}P_i^j \\Biggr) $$\n",
    "\n",
    "Où $P$, le vecteur des  $P_i^j$, constitue la variable de décision. Les $P_i^j$ sont au nombre de $N \\cdot n_l$.\n",
    "\n",
    "Cette fois, on a les contraintes inégalités suivantes, pour tous $i, j \\in [\\![0, N-1]\\!]  \\times [\\![0, n_l-1]\\!]$ :\n",
    "\n",
    "$$ (c_{I1})_{i,j} = T_m^j-T_i^j $$\n",
    "$$ (c_{I2})_{i,j} = T_i^j - T_M^j $$\n",
    "$$ (c_{I3})_{i,j} = -P_i^j $$\n",
    "$$ (c_{I4})_{i,j} = P_i^j - P_M $$\n",
    "\n",
    "Le problème s'écrit donc : $\\min_{P} f(P)$, où $P$ est un vecteur de taille $N \\cdot n_l$."
   ]
  },
  {
   "cell_type": "code",
   "execution_count": null,
   "metadata": {},
   "outputs": [],
   "source": [
    "#10. Mise en oeuvre de la méthode du simplexe pour n_l = 2\n",
    "\n",
    "import numpy as np\n",
    "import matplotlib.pyplot as plt\n",
    "from scipy.optimize import \n",
    "\n",
    "#Définition de la fonction de température\n",
    "def T()\n"
   ]
  }
 ],
 "metadata": {
  "language_info": {
   "name": "python"
  }
 },
 "nbformat": 4,
 "nbformat_minor": 2
}
