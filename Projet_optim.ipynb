{
 "cells": [
  {
   "cell_type": "markdown",
   "metadata": {},
   "source": [
    "# Mini-projet d'optimisation : Effacement de consommation\n",
    "\n",
    "## 1. Etude du problème d'optimisation\n",
    "\n",
    "1. La facture d'énergie s'écrit comme l'intégrale de la puissance électrique consommée multipliée par le prix de l'énergie sur une période de temps donnée.\n",
    " En discrétisant le temps, on peut écrire la facture d'énergie comme la somme des puissances électriques consommées multipliée par le prix de l'énergie sur chaque intervalle de temps.\n",
    " Ainsi : \n",
    " $$\\text{Facture} = \\Delta t \\sum_{i=0}^{N-1} c_i P_i$$"
   ]
  },
  {
   "cell_type": "markdown",
   "metadata": {},
   "source": [
    "2. Le bilan énergétique de la maison s'écrit :\n",
    "- $P$ la puissance thermique produite par les convecteurs.\n",
    "- $C \\frac{dT}{dt}$ la puissance thermique absorbée par les murs et l'air dans la maison (on considère un système dynamique, la maison étant de capacité calorifique $C$)\n",
    "- $H(T-T^e)$ la puissance thermique dissippée à l'exérieur par les murs et les fenêtres, avec le coefficient d'échange conducto-convectif $H$.\n",
    "\n",
    "Ainsi, le bilan énergétique s'écrit :\n",
    "$$P = C \\frac{dT}{dt} + H(T-T^e) $$\n",
    "\n",
    "La solution de ce problème s'écrit :\n",
    "$$T(t) = T^e + \\frac{P}{H} + (T_0 - T^e - \\frac{P}{H})e^{-\\frac{H}{C}t}$$\n",
    "\n",
    "Ce qui se discrétise en :\n",
    "$$T_{i+1} = T^e_i + \\frac{P_i}{H} + (T_i - T^e_i - \\frac{P_i}{H})e^{-\\frac{H}{C}\\Delta t}$$\n",
    "\n",
    "\n",
    "\n",
    "On identifie alors h, k et b :\n",
    "\n",
    "pour obtenir :\n",
    "$$T_{i+1} = e^{-(k+h)\\Delta t} T_i + \\frac{1-e^{-(k+h)\\Delta t}}{k+h} (bP_i + hT_i^e)$$\n",
    "3. On veut minimiser la facture . Donc le problème d'optimisation est $$\\min_{P_i} = \\Delta t \\sum_{i=0}^{N-1} c_i P_i$$ \n",
    "\n",
    "Les variables de décision sont donc les $P_i$, au nombre de $n=N$. \n",
    "\n",
    "On a également les contraintes inégalités suivantes : \n",
    "$$(c_{i1})_i = T_m-T_i$$\n",
    "$$(c_{i2})_i = T_i-T_M$$\n",
    "$$(c_{i3})_i = -P_i$$\n",
    "$$(c_{i4})_i = P_i-P_M$$\n",
    "\n",
    "La fonction $f$ est définie par :\n",
    "$$f(P) = \\Delta t \\sum_{i=0}^{N-1} c_i P_i$$\n"
   ]
  },
  {
   "cell_type": "markdown",
   "metadata": {},
   "source": [],
   "source": [
    "4. Les $c_i$ sont constants. Donc la fonction $f$ est linéaire en $P$. Le problème est donc un problème d'optimisation linéaire."
   ]
  }
 ],
 "metadata": {
  "language_info": {
   "name": "python"
  }
 },
 "nbformat": 4,
 "nbformat_minor": 2
}
