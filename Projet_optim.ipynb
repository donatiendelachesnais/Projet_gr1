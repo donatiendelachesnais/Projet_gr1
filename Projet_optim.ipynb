{
 "cells": [
  {
   "cell_type": "markdown",
   "metadata": {},
   "source": [
    "# 1. Etude du problème d'optimisation\n",
    "\n",
    "1. La facture d'énergie s'écrit comme l'intégrale de la puissance électrique consommée multipliée par le prix de l'énergie sur une période de temps donnée.\n",
    " En discrétisant le temps, on peut écrire la facture d'énergie comme la somme des puissances électriques consommées multipliée par le prix de l'énergie sur chaque intervalle de temps.\n",
    " Ainsi : \n",
    " $$\\text{Facture} = \\Delta t \\sum_{i=0}^{N-1} c_i P_i$$"
   ]
  }
 ],
 "metadata": {
  "language_info": {
   "name": "python"
  }
 },
 "nbformat": 4,
 "nbformat_minor": 2
}
